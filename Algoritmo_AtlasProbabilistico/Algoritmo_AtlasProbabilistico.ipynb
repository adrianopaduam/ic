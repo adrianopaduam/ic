{
 "cells": [
  {
   "cell_type": "markdown",
   "metadata": {},
   "source": [
    "Este é um algoritmo desenvolvido para ler diversos Atlas(Imagens 3D préviamente segmentadas) para em sequência construir um Atlas Probabilístico (Imagem das médias da cor para cada voxel no espaço)\n",
    "\n",
    "--------------------------------------------------------------------------------------------------------------"
   ]
  },
  {
   "cell_type": "markdown",
   "metadata": {},
   "source": [
    "Primeiro são importadas as bibliotecas necessárias ao algoritmo:"
   ]
  },
  {
   "cell_type": "code",
   "execution_count": 14,
   "metadata": {
    "collapsed": true
   },
   "outputs": [],
   "source": [
    "import numpy as np\n",
    "import nibabel as nib\n",
    "import glob"
   ]
  },
  {
   "cell_type": "markdown",
   "metadata": {},
   "source": [
    "Definição da classe ProbAtlas, atributos e métodos"
   ]
  },
  {
   "cell_type": "code",
   "execution_count": 12,
   "metadata": {},
   "outputs": [],
   "source": [
    "class ProbAtlas:\n",
    "    \n",
    "    #inicia o objeto com dois atribbutos: a lista de atlas que será lida e o atlas final, que é o resultado esperado\n",
    "    def __init__(self):\n",
    "        self.lidos = []\n",
    "        self.probabilistico = 0\n",
    "\n",
    "    #método para ler os Atlas modelo dentro de uma pasta dada pelo usuário ou definida a posteriori no programa\n",
    "    def leitura_atlas(self, endereco_pasta):\n",
    "        atlas_lido = []\n",
    "        try:\n",
    "            for nome_arquivo in glob.glob(endereco_pasta + \"/*.hdr\"):\n",
    "                temp = nib.load(nome_arquivo)\n",
    "                atlas_lido.append(temp.get_data())\n",
    "        except:\n",
    "            print \"Algum arquivo não está na formatação correta\"\n",
    "\n",
    "        return atlas_lido\n",
    "\n",
    "    #Teste lógico para tratar possível entrada de imagens não uniformes\n",
    "    def confirma_tamanho_imagens(self):\n",
    "        x, y, z , t = self.lidos[0].shape\n",
    "        \n",
    "        for array in self.lidos:\n",
    "            tempx, tempy, tempz, tempt = array.shape\n",
    "            if (x != tempx or y != tempy or z != tempz):\n",
    "                return False\n",
    "        \n",
    "        return True\n",
    "    \n",
    "    #Método que calcula as médias dos brilhos e as guarda nas posições corretas\n",
    "    def criar_atlas_probabilistico(self):\n",
    "        if self.confirma_tamanho_imagens():\n",
    "            largura, profundidade, altura, tempo = self.lidos[0].shape\n",
    "            tipo_dados = self.lidos[0].dtype\n",
    "        else:\n",
    "            return null #Temporário\n",
    "        \n",
    "        atlas_probabilistico = np.zeros((largura, profundidade, altura, 1), dtype=tipo_dados)\n",
    "        soma_brilhos = np.zeros((largura, profundidade, altura, 1), dtype=tipo_dados)\n",
    "        total_casos = len(self.lidos)\n",
    "\n",
    "                    \n",
    "        for array in self.lidos:\n",
    "            soma_brilhos += array\n",
    "                    \n",
    "        atlas_probabilistico = soma_brilhos / total_casos\n",
    "                    \n",
    "        return atlas_probabilistico\n",
    "\n",
    "def main():\n",
    "    construtor_atlas = ProbAtlas()\n",
    "    \n",
    "    construtor_atlas.lidos = construtor_atlas.leitura_atlas(\"./Atlas_Segmentados\")\n",
    "    construtor_atlas.probabilistico = construtor_atlas.criar_atlas_probabilistico()\n",
    "    \n",
    "    #nib.save(construtor_atlas.probabilistico, \"Atlas_Probabilistico.hdr\")"
   ]
  },
  {
   "cell_type": "markdown",
   "metadata": {},
   "source": [
    "Computo teste de um atlas probabilistico"
   ]
  },
  {
   "cell_type": "code",
   "execution_count": 13,
   "metadata": {},
   "outputs": [],
   "source": [
    "main()"
   ]
  },
  {
   "cell_type": "markdown",
   "metadata": {},
   "source": [
    "Definição da entrada com o nome do diretório como argumento"
   ]
  },
  {
   "cell_type": "code",
   "execution_count": null,
   "metadata": {},
   "outputs": [],
   "source": [
    "if __name__ == __main__:\n",
    "    import sys\n",
    "    construtor_atlas = ProbAtlas()\n",
    "    \n",
    "    construtor_atlas.lidos = ProbAtlas.leitura_atlas(sys.argv[1])\n",
    "    construtor_atlas.probabilistico = construtor_atlas.criar_atlas_probabilistico()\n",
    "    \n",
    "    nib.save(construtor_atlas.probabilistico, \"Atlas_Probabilistico.hdr\")"
   ]
  }
 ],
 "metadata": {
  "kernelspec": {
   "display_name": "Python 2",
   "language": "python",
   "name": "python2"
  },
  "language_info": {
   "codemirror_mode": {
    "name": "ipython",
    "version": 2
   },
   "file_extension": ".py",
   "mimetype": "text/x-python",
   "name": "python",
   "nbconvert_exporter": "python",
   "pygments_lexer": "ipython2",
   "version": "2.7.12"
  }
 },
 "nbformat": 4,
 "nbformat_minor": 2
}
